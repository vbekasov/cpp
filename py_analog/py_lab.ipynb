{
 "cells": [
  {
   "cell_type": "code",
   "execution_count": 1,
   "id": "1f2b79cb-7f49-4e52-a0f2-761eccb2fb3c",
   "metadata": {},
   "outputs": [
    {
     "name": "stdout",
     "output_type": "stream",
     "text": [
      "START\n"
     ]
    }
   ],
   "source": [
    "import m_ll\n",
    "import m_tree\n",
    "\n",
    "print(\"START\")"
   ]
  },
  {
   "cell_type": "markdown",
   "id": "1282a21b",
   "metadata": {},
   "source": [
    "### Linked List"
   ]
  },
  {
   "cell_type": "code",
   "execution_count": 2,
   "id": "d4cc4da9-a64a-4f3e-973a-29f21cbd62aa",
   "metadata": {},
   "outputs": [
    {
     "name": "stdout",
     "output_type": "stream",
     "text": [
      "987 | 123 | ABC | QWERTY | \n",
      "987 | ABC | XYZ | QWERTY | \n"
     ]
    },
    {
     "data": {
      "text/plain": [
       "4"
      ]
     },
     "execution_count": 2,
     "metadata": {},
     "output_type": "execute_result"
    }
   ],
   "source": [
    "LL_Obj = m_ll.LL(123)\n",
    "LL_Obj.push_back(\"ABC\")\n",
    "LL_Obj.push_back(\"QWERTY\")\n",
    "LL_Obj.push_forword(987)\n",
    "LL_Obj.print_ll()\n",
    "\n",
    "LL_Obj.insert_after(\"ABC\", \"XYZ\")\n",
    "LL_Obj.del_el(123)\n",
    "LL_Obj.print_ll()\n",
    "LL_Obj.ll_length()"
   ]
  },
  {
   "cell_type": "markdown",
   "id": "595a35c8",
   "metadata": {},
   "source": [
    "### Binary Tree"
   ]
  },
  {
   "cell_type": "code",
   "execution_count": 3,
   "id": "f08ecbd1",
   "metadata": {},
   "outputs": [],
   "source": [
    "BT_Obj = m_tree.PyBinTree(20)\n",
    "BT_Obj.add_el(15)\n",
    "BT_Obj.add_el(17)\n",
    "BT_Obj.add_el(10)\n",
    "BT_Obj.add_el(13)\n",
    "BT_Obj.add_el(30)\n",
    "BT_Obj.add_el(35)\n",
    "BT_Obj.add_el(32)\n",
    "BT_Obj.add_el(25)\n",
    "BT_Obj.add_el(23)\n",
    "BT_Obj.add_el(27)"
   ]
  },
  {
   "cell_type": "code",
   "execution_count": 4,
   "id": "21c546ef",
   "metadata": {},
   "outputs": [
    {
     "name": "stdout",
     "output_type": "stream",
     "text": [
      "13\n",
      "None <- | -> None\n",
      "10\n",
      "None <- | ->  13\n",
      "17\n",
      "None <- | -> None\n",
      "15\n",
      "10  <- | ->  17\n",
      "23\n",
      "None <- | -> None\n",
      "27\n",
      "None <- | -> None\n",
      "25\n",
      "23  <- | ->  27\n",
      "32\n",
      "None <- | -> None\n",
      "35\n",
      "32  <- | -> None\n",
      "30\n",
      "25  <- | ->  35\n",
      "20\n",
      "15  <- | ->  30\n"
     ]
    }
   ],
   "source": [
    "BT_Obj.print_tree()"
   ]
  },
  {
   "cell_type": "code",
   "execution_count": 5,
   "id": "592eecb7",
   "metadata": {},
   "outputs": [
    {
     "data": {
      "text/html": [
       "<div>\n",
       "<style scoped>\n",
       "    .dataframe tbody tr th:only-of-type {\n",
       "        vertical-align: middle;\n",
       "    }\n",
       "\n",
       "    .dataframe tbody tr th {\n",
       "        vertical-align: top;\n",
       "    }\n",
       "\n",
       "    .dataframe thead th {\n",
       "        text-align: right;\n",
       "    }\n",
       "</style>\n",
       "<table border=\"1\" class=\"dataframe\">\n",
       "  <thead>\n",
       "    <tr style=\"text-align: right;\">\n",
       "      <th></th>\n",
       "      <th>Level</th>\n",
       "      <th>Data</th>\n",
       "      <th>Left</th>\n",
       "      <th>Right</th>\n",
       "      <th>nLvl</th>\n",
       "    </tr>\n",
       "  </thead>\n",
       "  <tbody>\n",
       "    <tr>\n",
       "      <th>6</th>\n",
       "      <td>3</td>\n",
       "      <td>25</td>\n",
       "      <td>23</td>\n",
       "      <td>27</td>\n",
       "      <td>4</td>\n",
       "    </tr>\n",
       "    <tr>\n",
       "      <th>7</th>\n",
       "      <td>4</td>\n",
       "      <td>32</td>\n",
       "      <td>32</td>\n",
       "      <td>32</td>\n",
       "      <td>5</td>\n",
       "    </tr>\n",
       "    <tr>\n",
       "      <th>8</th>\n",
       "      <td>3</td>\n",
       "      <td>35</td>\n",
       "      <td>32</td>\n",
       "      <td>35</td>\n",
       "      <td>4</td>\n",
       "    </tr>\n",
       "    <tr>\n",
       "      <th>9</th>\n",
       "      <td>2</td>\n",
       "      <td>30</td>\n",
       "      <td>25</td>\n",
       "      <td>35</td>\n",
       "      <td>3</td>\n",
       "    </tr>\n",
       "    <tr>\n",
       "      <th>10</th>\n",
       "      <td>1</td>\n",
       "      <td>20</td>\n",
       "      <td>15</td>\n",
       "      <td>30</td>\n",
       "      <td>2</td>\n",
       "    </tr>\n",
       "  </tbody>\n",
       "</table>\n",
       "</div>"
      ],
      "text/plain": [
       "    Level  Data  Left  Right  nLvl\n",
       "6       3    25    23     27     4\n",
       "7       4    32    32     32     5\n",
       "8       3    35    32     35     4\n",
       "9       2    30    25     35     3\n",
       "10      1    20    15     30     2"
      ]
     },
     "execution_count": 5,
     "metadata": {},
     "output_type": "execute_result"
    }
   ],
   "source": [
    "import pandas as pd\n",
    "\n",
    "dtTree = pd.DataFrame(BT_Obj.l_plot())\n",
    "dtTree.columns = ['Level', 'Data', 'Left', 'Right']\n",
    "dtTree['nLvl'] = dtTree['Level'].astype(int) + 1\n",
    "\n",
    "dtTree.tail()"
   ]
  },
  {
   "cell_type": "code",
   "execution_count": 6,
   "id": "aacc1c7c",
   "metadata": {},
   "outputs": [],
   "source": [
    "def merge(l1, l2):\n",
    "    ret = [[tuple(l1[i]),tuple(l2[i])] for i in range(0,len(l1))]\n",
    "    return ret\n",
    "\n",
    "def df_to_segments(df1, df2):\n",
    "    df1 = df1.to_records(index=False)\n",
    "    df1 = list(df1)\n",
    "    df2 = df2.to_records(index=False)\n",
    "    df2 = list(df2)\n",
    "    ret = [[tuple(df1[i]),tuple(df2[i])] for i in range(0,len(df1))]\n",
    "    ret = list(filter(lambda item: item[0][1] != item[1][1], ret))\n",
    "    return ret"
   ]
  },
  {
   "cell_type": "code",
   "execution_count": 7,
   "id": "0cff6d93",
   "metadata": {},
   "outputs": [],
   "source": [
    "lLeft = df_to_segments(dtTree[['Level','Data']], dtTree[['nLvl','Left']])\n",
    "lRight = df_to_segments(dtTree[['Level','Data']], dtTree[['nLvl','Right']])\n"
   ]
  },
  {
   "cell_type": "markdown",
   "id": "155e4f96",
   "metadata": {},
   "source": [
    "### Tree visualisation"
   ]
  },
  {
   "cell_type": "code",
   "execution_count": 8,
   "id": "577a0573",
   "metadata": {},
   "outputs": [
    {
     "name": "stdout",
     "output_type": "stream",
     "text": [
      "[10, 13, 15, 17, 20, 23, 25, 27, 30, 32, 35]\n"
     ]
    },
    {
     "data": {
      "image/png": "[encoded data removed]",
      "text/plain": [
       "<Figure size 640x480 with 1 Axes>"
      ]
     },
     "metadata": {},
     "output_type": "display_data"
    }
   ],
   "source": [
    "from matplotlib import collections  as mc\n",
    "import matplotlib.pyplot as pl\n",
    "\n",
    "lc = mc.LineCollection(lLeft, linewidths=0.5)\n",
    "rc = mc.LineCollection(lRight, linewidths=0.5)\n",
    "fig, ax = pl.subplots()\n",
    "ax.add_collection(lc)\n",
    "ax.add_collection(rc)\n",
    "ax.scatter(x=dtTree['Level'],y=dtTree['Data'])\n",
    "ax.autoscale()\n",
    "ax.margins(0.1)\n",
    "print(BT_Obj.vectorize_tree())"
   ]
  },
  {
   "cell_type": "code",
   "execution_count": 9,
   "id": "72c70e89",
   "metadata": {},
   "outputs": [
    {
     "name": "stdout",
     "output_type": "stream",
     "text": [
      "[10, 13, 15, 17, 20, 23, 25, 27, 30, 32, 35]\n"
     ]
    }
   ],
   "source": [
    "BT_Obj.balance_tree()\n",
    "print(BT_Obj.vectorize_tree())"
   ]
  }
 ],
 "metadata": {
  "kernelspec": {
   "display_name": "Python 3 (ipykernel)",
   "language": "python",
   "name": "python3"
  },
  "language_info": {
   "codemirror_mode": {
    "name": "ipython",
    "version": 3
   },
   "file_extension": ".py",
   "mimetype": "text/x-python",
   "name": "python",
   "nbconvert_exporter": "python",
   "pygments_lexer": "ipython3",
   "version": "3.9.13"
  },
  "vscode": {
   "interpreter": {
    "hash": "cbfb2479071fdf56a88c3ea27dc116a1caefde359adfaf9653e7fad5a3587abd"
   }
  }
 },
 "nbformat": 4,
 "nbformat_minor": 5
}
