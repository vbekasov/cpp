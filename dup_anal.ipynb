{
 "cells": [
  {
   "cell_type": "code",
   "execution_count": 1,
   "id": "160f6189-8bf0-4ace-b9ed-ffd653c4f12c",
   "metadata": {},
   "outputs": [
    {
     "name": "stdout",
     "output_type": "stream",
     "text": [
      "START\n"
     ]
    }
   ],
   "source": [
    "import pandas as pd\n",
    "import matplotlib.pyplot as plt\n",
    "import os\n",
    "import gen_rand\n",
    "import numpy as np\n",
    "\n",
    "print(\"START\")"
   ]
  },
  {
   "cell_type": "code",
   "execution_count": 16,
   "id": "70cc7327",
   "metadata": {},
   "outputs": [
    {
     "name": "stdout",
     "output_type": "stream",
     "text": [
      "Obj destroyed\n"
     ]
    },
    {
     "data": {
      "text/plain": [
       "(10,)"
      ]
     },
     "execution_count": 16,
     "metadata": {},
     "output_type": "execute_result"
    }
   ],
   "source": [
    "Obj1 = gen_rand.Rand_set(200, 210, 1)\n",
    "tmp = Obj1.gen_rand_prnt(ret=1)\n",
    "del(Obj1)\n",
    "tmp.shape"
   ]
  },
  {
   "cell_type": "code",
   "execution_count": 17,
   "id": "886b6faf",
   "metadata": {},
   "outputs": [
    {
     "name": "stdout",
     "output_type": "stream",
     "text": [
      "9 2\n",
      "9 2\n",
      "9 1\n",
      "9 2\n",
      "9 2\n",
      "9 2\n",
      "9 2\n",
      "9 2\n",
      "9 1\n"
     ]
    },
    {
     "name": "stderr",
     "output_type": "stream",
     "text": [
      "sh: line 1: -45037: command not found\n",
      "sh: line 2: 687650: command not found\n",
      "sh: line 3: -475085: command not found\n",
      "sh: line 4: 631900: command not found\n",
      "sh: line 5: 951923: command not found\n",
      "sh: line 6: 826492: command not found\n",
      "sh: line 7: -787821: command not found\n",
      "sh: line 8: 124582: command not found\n",
      "sh: line 9: 367819: command not found\n",
      "sh: line 10: 589022: command not found\n",
      "sh: line 11: 968426: command not found\n",
      "sh: line 12: 717572: command not found\n",
      "sh: line 13: -146146: command not found\n",
      "sh: line 14: -523970: command not found\n",
      "sh: line 15: -972970: command not found\n",
      "sh: line 16: 441704: command not found\n",
      "sh: line 17: 167813: command not found\n",
      "sh: line 18: -959592: command not found\n",
      "sh: line 19: 454063: command not found\n",
      "sh: line 20: -912439: command not found\n",
      "sh: line 21: 206307: command not found\n",
      "sh: line 22: -198150: command not found\n",
      "sh: line 1: -176106: command not found\n",
      "sh: line 2: -211421: command not found\n",
      "sh: line 3: 135216: command not found\n",
      "sh: line 4: -709043: command not found\n",
      "sh: line 5: -24978: command not found\n",
      "sh: line 6: 191105: command not found\n",
      "sh: line 7: -660841: command not found\n",
      "sh: line 8: -154959: command not found\n",
      "sh: line 9: 701122: command not found\n",
      "sh: line 10: -486173: command not found\n",
      "sh: line 11: 491770: command not found\n",
      "sh: line 12: -510681: command not found\n",
      "sh: line 13: 530751: command not found\n",
      "sh: line 14: 287566: command not found\n",
      "sh: line 15: 981341: command not found\n",
      "sh: line 16: 711035: command not found\n",
      "sh: line 17: -568950: command not found\n",
      "sh: line 18: 706975: command not found\n",
      "sh: line 19: -382549: command not found\n",
      "sh: line 20: -502326: command not found\n",
      "sh: line 21: -306721: command not found\n",
      "sh: line 22: 892912: command not found\n",
      "sh: line 1: 119320: command not found\n",
      "sh: line 2: 195633: command not found\n",
      "sh: line 3: -772022: command not found\n",
      "sh: line 4: -526750: command not found\n",
      "sh: line 5: -786828: command not found\n",
      "sh: line 6: -44547: command not found\n",
      "sh: line 7: -69999: command not found\n",
      "sh: line 8: -35678: command not found\n",
      "sh: line 9: -892744: command not found\n",
      "sh: line 10: -335673: command not found\n",
      "sh: line 11: -735010: command not found\n",
      "sh: line 12: 706304: command not found\n",
      "sh: line 13: 198938: command not found\n",
      "sh: line 14: 564042: command not found\n",
      "sh: line 15: -43161: command not found\n",
      "sh: line 16: 790912: command not found\n",
      "sh: line 17: -986207: command not found\n",
      "sh: line 18: 691634: command not found\n",
      "sh: line 19: -343100: command not found\n",
      "sh: line 20: -132141: command not found\n",
      "sh: line 21: -166946: command not found\n",
      "sh: line 22: -858636: command not found\n",
      "sh: line 1: 554002: command not found\n",
      "sh: line 2: 791076: command not found\n",
      "sh: line 3: 726076: command not found\n",
      "sh: line 4: -23981: command not found\n",
      "sh: line 5: -262546: command not found\n",
      "sh: line 6: 140929: command not found\n",
      "sh: line 7: 491666: command not found\n",
      "sh: line 8: -44379: command not found\n",
      "sh: line 9: -485185: command not found\n",
      "sh: line 10: -211754: command not found\n",
      "sh: line 11: -551183: command not found\n",
      "sh: line 12: -937215: command not found\n",
      "sh: line 13: -145130: command not found\n",
      "sh: line 14: 808745: command not found\n",
      "sh: line 15: -786100: command not found\n",
      "sh: line 16: 444256: command not found\n",
      "sh: line 17: 562043: command not found\n",
      "sh: line 18: -455276: command not found\n",
      "sh: line 19: 631724: command not found\n",
      "sh: line 20: 163769: command not found\n",
      "sh: line 21: -100385: command not found\n",
      "sh: line 22: 124913: command not found\n",
      "sh: line 1: 28179: command not found\n",
      "sh: line 2: -418262: command not found\n",
      "sh: line 3: -41396: command not found\n",
      "sh: line 4: 758890: command not found\n",
      "sh: line 5: -916351: command not found\n",
      "sh: line 6: 7836: command not found\n",
      "sh: line 7: 600233: command not found\n",
      "sh: line 8: 174776: command not found\n",
      "sh: line 9: -704312: command not found\n",
      "sh: line 10: -486178: command not found\n",
      "sh: line 11: 230662: command not found\n",
      "sh: line 12: 54040: command not found\n",
      "sh: line 13: 476975: command not found\n",
      "sh: line 14: -934074: command not found\n",
      "sh: line 15: -538796: command not found\n",
      "sh: line 16: -661141: command not found\n",
      "sh: line 17: -37500: command not found\n",
      "sh: line 18: -458854: command not found\n",
      "sh: line 19: -625224: command not found\n",
      "sh: line 20: -473645: command not found\n",
      "sh: line 21: -979999: command not found\n",
      "sh: line 22: -979468: command not found\n",
      "sh: line 1: 729127: command not found\n",
      "sh: line 2: -629694: command not found\n",
      "sh: line 3: -491428: command not found\n",
      "sh: line 4: 630913: command not found\n",
      "sh: line 5: 512662: command not found\n",
      "sh: line 6: -141653: command not found\n",
      "sh: line 7: -772412: command not found\n",
      "sh: line 8: -759597: command not found\n",
      "sh: line 9: -604448: command not found\n",
      "sh: line 10: 329465: command not found\n",
      "sh: line 11: 123654: command not found\n",
      "sh: line 12: -74987: command not found\n",
      "sh: line 13: -805074: command not found\n",
      "sh: line 14: -676037: command not found\n",
      "sh: line 15: -728228: command not found\n",
      "sh: line 16: 327539: command not found\n",
      "sh: line 17: 455560: command not found\n",
      "sh: line 18: -688739: command not found\n",
      "sh: line 19: -243289: command not found\n",
      "sh: line 20: 637886: command not found\n",
      "sh: line 21: -55334: command not found\n",
      "sh: line 22: 304618: command not found\n",
      "sh: line 1: 522276: command not found\n",
      "sh: line 2: 77883: command not found\n",
      "sh: line 3: -675242: command not found\n",
      "sh: line 4: 150631: command not found\n",
      "sh: line 5: 184445: command not found\n",
      "sh: line 6: 478865: command not found\n",
      "sh: line 7: -231779: command not found\n",
      "sh: line 8: 703663: command not found\n",
      "sh: line 9: 713915: command not found\n",
      "sh: line 10: 260817: command not found\n",
      "sh: line 11: -354569: command not found\n",
      "sh: line 12: -452342: command not found\n",
      "sh: line 13: 297768: command not found\n",
      "sh: line 14: 667969: command not found\n",
      "sh: line 15: 747347: command not found\n",
      "sh: line 16: 434028: command not found\n",
      "sh: line 17: -472169: command not found\n",
      "sh: line 18: 847271: command not found\n",
      "sh: line 19: -482372: command not found\n",
      "sh: line 20: 943057: command not found\n",
      "sh: line 21: 700892: command not found\n",
      "sh: line 22: 230888: command not found\n",
      "sh: line 1: 37933: command not found\n",
      "sh: line 2: 441923: command not found\n",
      "sh: line 3: 838221: command not found\n",
      "sh: line 4: 788073: command not found\n",
      "sh: line 5: 299122: command not found\n",
      "sh: line 6: -502642: command not found\n",
      "sh: line 7: -1368: command not found\n",
      "sh: line 8: -678211: command not found\n",
      "sh: line 9: 928972: command not found\n",
      "sh: line 10: 230110: command not found\n",
      "sh: line 11: -924414: command not found\n",
      "sh: line 12: 348951: command not found\n",
      "sh: line 13: 981309: command not found\n",
      "sh: line 14: 354641: command not found\n",
      "sh: line 15: 483174: command not found\n",
      "sh: line 16: 303484: command not found\n",
      "sh: line 17: -450164: command not found\n",
      "sh: line 18: 959393: command not found\n",
      "sh: line 19: -480338: command not found\n",
      "sh: line 20: 949688: command not found\n",
      "sh: line 21: -642094: command not found\n",
      "sh: line 22: -241685: command not found\n",
      "sh: line 1: 909330: command not found\n",
      "sh: line 2: -191448: command not found\n",
      "sh: line 3: 455744: command not found\n",
      "sh: line 4: 543811: command not found\n",
      "sh: line 5: -165795: command not found\n",
      "sh: line 6: 934512: command not found\n",
      "sh: line 7: 95872: command not found\n",
      "sh: line 8: 683682: command not found\n",
      "sh: line 9: 73910: command not found\n",
      "sh: line 10: -796989: command not found\n",
      "sh: line 11: -941858: command not found\n",
      "sh: line 12: -812810: command not found\n",
      "sh: line 13: 484140: command not found\n",
      "sh: line 14: 133437: command not found\n",
      "sh: line 15: 747352: command not found\n",
      "sh: line 16: -638611: command not found\n",
      "sh: line 17: 622460: command not found\n",
      "sh: line 18: 894856: command not found\n",
      "sh: line 19: -230498: command not found\n",
      "sh: line 20: -877132: command not found\n",
      "sh: line 21: -849968: command not found\n",
      "sh: line 22: 954337: command not found\n",
      "sh: line 23: 161791: command not found\n"
     ]
    },
    {
     "name": "stdout",
     "output_type": "stream",
     "text": [
      "9 2\n"
     ]
    },
    {
     "name": "stderr",
     "output_type": "stream",
     "text": [
      "sh: line 1: 283687: command not found\n",
      "sh: line 2: 635965: command not found\n",
      "sh: line 3: 429655: command not found\n",
      "sh: line 4: 943214: command not found\n",
      "sh: line 5: 429181: command not found\n",
      "sh: line 6: -741226: command not found\n",
      "sh: line 7: -493912: command not found\n",
      "sh: line 8: -160070: command not found\n",
      "sh: line 9: -847659: command not found\n",
      "sh: line 10: 956657: command not found\n",
      "sh: line 11: -549107: command not found\n",
      "sh: line 12: -441055: command not found\n",
      "sh: line 13: 122163: command not found\n",
      "sh: line 14: -277695: command not found\n",
      "sh: line 15: -79525: command not found\n",
      "sh: line 16: 769391: command not found\n",
      "sh: line 17: -889472: command not found\n",
      "sh: line 18: 452503: command not found\n",
      "sh: line 19: 402341: command not found\n",
      "sh: line 20: 89534: command not found\n",
      "sh: line 21: -764460: command not found\n",
      "sh: line 22: 735726: command not found\n",
      "sh: line 23: -166404: command not found\n"
     ]
    }
   ],
   "source": [
    "!rm -f size_dup.txt\n",
    "!echo \"Len Dup\" >> size_dup.txt\n",
    "for i in tmp:\n",
    "    t = np.array2string(np.array(list(i)))\n",
    "    !rm -f temp.txt\n",
    "    text_f =open(\"temp.txt\", \"w\")\n",
    "    text_f.write(t)\n",
    "    text_f.close()\n",
    "    t = \" ARG=$(cat temp.txt) ; ./bi_tree_bin $ARG >> size_dup.txt\"\n",
    "    #t = \" ./bi_tree_bin \" + t[1:-1] + \" >> size_dup.txt\"\n",
    "    os.system(t)"
   ]
  },
  {
   "cell_type": "code",
   "execution_count": 4,
   "id": "3b8d6d51-e206-405e-ba17-38a9e7a00e52",
   "metadata": {},
   "outputs": [
    {
     "data": {
      "text/html": [
       "<div>\n",
       "<style scoped>\n",
       "    .dataframe tbody tr th:only-of-type {\n",
       "        vertical-align: middle;\n",
       "    }\n",
       "\n",
       "    .dataframe tbody tr th {\n",
       "        vertical-align: top;\n",
       "    }\n",
       "\n",
       "    .dataframe thead th {\n",
       "        text-align: right;\n",
       "    }\n",
       "</style>\n",
       "<table border=\"1\" class=\"dataframe\">\n",
       "  <thead>\n",
       "    <tr style=\"text-align: right;\">\n",
       "      <th></th>\n",
       "      <th>Len</th>\n",
       "      <th>Dup</th>\n",
       "    </tr>\n",
       "  </thead>\n",
       "  <tbody>\n",
       "    <tr>\n",
       "      <th>0</th>\n",
       "      <td>3</td>\n",
       "      <td>0</td>\n",
       "    </tr>\n",
       "    <tr>\n",
       "      <th>1</th>\n",
       "      <td>5</td>\n",
       "      <td>0</td>\n",
       "    </tr>\n",
       "    <tr>\n",
       "      <th>2</th>\n",
       "      <td>7</td>\n",
       "      <td>0</td>\n",
       "    </tr>\n",
       "    <tr>\n",
       "      <th>3</th>\n",
       "      <td>9</td>\n",
       "      <td>2</td>\n",
       "    </tr>\n",
       "  </tbody>\n",
       "</table>\n",
       "</div>"
      ],
      "text/plain": [
       "   Len  Dup\n",
       "0    3    0\n",
       "1    5    0\n",
       "2    7    0\n",
       "3    9    2"
      ]
     },
     "execution_count": 4,
     "metadata": {},
     "output_type": "execute_result"
    }
   ],
   "source": [
    "#os.system(\"sh check_dup.sh 3 1 10\")\n",
    "dDup = pd.read_table(\"size_dup.txt\", delimiter=\" \", index_col=False)\n",
    "dDup.tail(5)"
   ]
  },
  {
   "cell_type": "code",
   "execution_count": 5,
   "id": "364f488d-008e-4e2e-bac7-98814a1e0113",
   "metadata": {},
   "outputs": [
    {
     "data": {
      "text/plain": [
       "<AxesSubplot:xlabel='Len'>"
      ]
     },
     "execution_count": 5,
     "metadata": {},
     "output_type": "execute_result"
    },
    {
     "data": {
      "image/png": "[encoded data removed]",
      "text/plain": [
       "<Figure size 640x480 with 1 Axes>"
      ]
     },
     "metadata": {},
     "output_type": "display_data"
    }
   ],
   "source": [
    "dDup.plot(x='Len', y='Dup')"
   ]
  }
 ],
 "metadata": {
  "kernelspec": {
   "display_name": "Python 3.9.13 ('vproj': venv)",
   "language": "python",
   "name": "python3"
  },
  "language_info": {
   "codemirror_mode": {
    "name": "ipython",
    "version": 3
   },
   "file_extension": ".py",
   "mimetype": "text/x-python",
   "name": "python",
   "nbconvert_exporter": "python",
   "pygments_lexer": "ipython3",
   "version": "3.9.13"
  },
  "vscode": {
   "interpreter": {
    "hash": "d99b25a7c4644c6b8d836bd348e909efd9966a02660cccd8cfd8f0386f720713"
   }
  }
 },
 "nbformat": 4,
 "nbformat_minor": 5
}
