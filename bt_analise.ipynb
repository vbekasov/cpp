{
 "cells": [
  {
   "cell_type": "code",
   "execution_count": 1,
   "id": "160f6189-8bf0-4ace-b9ed-ffd653c4f12c",
   "metadata": {},
   "outputs": [
    {
     "name": "stdout",
     "output_type": "stream",
     "text": [
      "START: Incident at Pristina airport;\n",
      "We Whant var!\n"
     ]
    }
   ],
   "source": [
    "import pandas as pd\n",
    "import matplotlib.pyplot as plt\n",
    "import os\n",
    "import numpy as np\n",
    "import subprocess\n",
    "import shlex\n",
    "# My module\n",
    "from py_analog import gen_rand\n",
    "from fileinput import close\n",
    "\n",
    "print(\"START: Incident at Pristina airport;\\nWe Whant var!\")\n",
    "#https://www.youtube.com/watch?v=ENyxseq59YQ&ab_channel=0STrack"
   ]
  },
  {
   "cell_type": "markdown",
   "id": "184072c6",
   "metadata": {},
   "source": [
    "### Random sets generation\n",
    "\n",
    "In next three cells we are going:\n",
    "*  Compile C++ code using comp.sh script\n",
    "*  Make array of sets with random integers\n",
    "*  Run binary using sets as arguments and save amount of duplicates in <i>'temp.txt'</i>\n",
    "\n",
    "Setup random generator:\n",
    "*  <b>start</b> : number of elements for the shortest first set (min>=3)\n",
    "*  <b>stop</b> : number of elements for the longest last set (max<=1001). Limited with number of arguments of binary file\n",
    "*  <b>step</b> : increment from <i>start</i> to <i>stop</i>"
   ]
  },
  {
   "cell_type": "code",
   "execution_count": 2,
   "id": "027502e7",
   "metadata": {},
   "outputs": [
    {
     "name": "stdout",
     "output_type": "stream",
     "text": [
      "rm -f data/size_dup.txt bin/st_bt\n",
      "echo \"Len Dup\" >> data/size_dup.txt;\n",
      "c++ cpp_src/st_bt.cpp -Wall -Werror -Wextra -std=c++20 -o bin/st_bt\n",
      "In file included from cpp_src/st_bt.cpp:3:\n",
      "In file included from cpp_src/../nbt/ser_head/../nbt.h:6:\n",
      "In file included from cpp_src/../nbt/tree_head/tree_collect.h:4:\n",
      "\u001b[1mcpp_src/../nbt/tree_head/cl_bt.hpp:9:25: \u001b[0m\u001b[0;1;31merror: \u001b[0m\u001b[1mprivate field 'data' is not used [-Werror,-Wunused-private-field]\u001b[0m\n",
      "            char*       data;\n",
      "\u001b[0;1;32m                        ^\n",
      "\u001b[0m\u001b[1mcpp_src/../nbt/tree_head/cl_bt.hpp:10:22: \u001b[0m\u001b[0;1;31merror: \u001b[0m\u001b[1mprivate field 'left' is not used [-Werror,-Wunused-private-field]\u001b[0m\n",
      "            Node*    left;\n",
      "\u001b[0;1;32m                     ^\n",
      "\u001b[0m\u001b[1mcpp_src/../nbt/tree_head/cl_bt.hpp:11:22: \u001b[0m\u001b[0;1;31merror: \u001b[0m\u001b[1mprivate field 'right' is not used [-Werror,-Wunused-private-field]\u001b[0m\n",
      "            Node*    right;\n",
      "\u001b[0;1;32m                     ^\n",
      "\u001b[0m3 errors generated.\n",
      "make: *** [resbt] Error 1\n"
     ]
    }
   ],
   "source": [
    "!make resbt;\n",
    "\n",
    "start = 3\n",
    "stop  = 1001\n",
    "step  = 1"
   ]
  },
  {
   "cell_type": "code",
   "execution_count": 3,
   "id": "70cc7327",
   "metadata": {},
   "outputs": [
    {
     "name": "stdout",
     "output_type": "stream",
     "text": [
      "Number of sets :  998\n"
     ]
    }
   ],
   "source": [
    "Obj1 = gen_rand.Rand_set(start, stop, step)\n",
    "rand_arr = Obj1.gen_rand_print(ret=1)\n",
    "del(Obj1)\n",
    "print(\"Number of sets : \", rand_arr.shape[0])"
   ]
  },
  {
   "cell_type": "code",
   "execution_count": 4,
   "id": "886b6faf",
   "metadata": {},
   "outputs": [
    {
     "ename": "FileNotFoundError",
     "evalue": "[Errno 2] No such file or directory: './bin/st_bt'",
     "output_type": "error",
     "traceback": [
      "\u001b[0;31m---------------------------------------------------------------------------\u001b[0m",
      "\u001b[0;31mFileNotFoundError\u001b[0m                         Traceback (most recent call last)",
      "\u001b[1;32m/Users/v-bek/Documents/bi-tree/g_cpp/bt_analise.ipynb Cell 5\u001b[0m in \u001b[0;36m<cell line: 1>\u001b[0;34m()\u001b[0m\n\u001b[1;32m      <a href='vscode-notebook-cell:/Users/v-bek/Documents/bi-tree/g_cpp/bt_analise.ipynb#W4sZmlsZQ%3D%3D?line=3'>4</a>\u001b[0m         t \u001b[39m=\u001b[39m \u001b[39m\"\u001b[39m\u001b[39m./bin/st_bt \u001b[39m\u001b[39m\"\u001b[39m \u001b[39m+\u001b[39m t\n\u001b[1;32m      <a href='vscode-notebook-cell:/Users/v-bek/Documents/bi-tree/g_cpp/bt_analise.ipynb#W4sZmlsZQ%3D%3D?line=4'>5</a>\u001b[0m         t \u001b[39m=\u001b[39m shlex\u001b[39m.\u001b[39msplit(t)\n\u001b[0;32m----> <a href='vscode-notebook-cell:/Users/v-bek/Documents/bi-tree/g_cpp/bt_analise.ipynb#W4sZmlsZQ%3D%3D?line=5'>6</a>\u001b[0m         subprocess\u001b[39m.\u001b[39;49mrun(t, stdout\u001b[39m=\u001b[39;49moutfile)\n\u001b[1;32m      <a href='vscode-notebook-cell:/Users/v-bek/Documents/bi-tree/g_cpp/bt_analise.ipynb#W4sZmlsZQ%3D%3D?line=7'>8</a>\u001b[0m outfile\u001b[39m.\u001b[39mclose()\n\u001b[1;32m      <a href='vscode-notebook-cell:/Users/v-bek/Documents/bi-tree/g_cpp/bt_analise.ipynb#W4sZmlsZQ%3D%3D?line=8'>9</a>\u001b[0m \u001b[39mdel\u001b[39;00m(outfile)\n",
      "File \u001b[0;32m/usr/local/Cellar/python@3.9/3.9.13_1/Frameworks/Python.framework/Versions/3.9/lib/python3.9/subprocess.py:505\u001b[0m, in \u001b[0;36mrun\u001b[0;34m(input, capture_output, timeout, check, *popenargs, **kwargs)\u001b[0m\n\u001b[1;32m    502\u001b[0m     kwargs[\u001b[39m'\u001b[39m\u001b[39mstdout\u001b[39m\u001b[39m'\u001b[39m] \u001b[39m=\u001b[39m PIPE\n\u001b[1;32m    503\u001b[0m     kwargs[\u001b[39m'\u001b[39m\u001b[39mstderr\u001b[39m\u001b[39m'\u001b[39m] \u001b[39m=\u001b[39m PIPE\n\u001b[0;32m--> 505\u001b[0m \u001b[39mwith\u001b[39;00m Popen(\u001b[39m*\u001b[39;49mpopenargs, \u001b[39m*\u001b[39;49m\u001b[39m*\u001b[39;49mkwargs) \u001b[39mas\u001b[39;00m process:\n\u001b[1;32m    506\u001b[0m     \u001b[39mtry\u001b[39;00m:\n\u001b[1;32m    507\u001b[0m         stdout, stderr \u001b[39m=\u001b[39m process\u001b[39m.\u001b[39mcommunicate(\u001b[39minput\u001b[39m, timeout\u001b[39m=\u001b[39mtimeout)\n",
      "File \u001b[0;32m/usr/local/Cellar/python@3.9/3.9.13_1/Frameworks/Python.framework/Versions/3.9/lib/python3.9/subprocess.py:951\u001b[0m, in \u001b[0;36mPopen.__init__\u001b[0;34m(self, args, bufsize, executable, stdin, stdout, stderr, preexec_fn, close_fds, shell, cwd, env, universal_newlines, startupinfo, creationflags, restore_signals, start_new_session, pass_fds, user, group, extra_groups, encoding, errors, text, umask)\u001b[0m\n\u001b[1;32m    947\u001b[0m         \u001b[39mif\u001b[39;00m \u001b[39mself\u001b[39m\u001b[39m.\u001b[39mtext_mode:\n\u001b[1;32m    948\u001b[0m             \u001b[39mself\u001b[39m\u001b[39m.\u001b[39mstderr \u001b[39m=\u001b[39m io\u001b[39m.\u001b[39mTextIOWrapper(\u001b[39mself\u001b[39m\u001b[39m.\u001b[39mstderr,\n\u001b[1;32m    949\u001b[0m                     encoding\u001b[39m=\u001b[39mencoding, errors\u001b[39m=\u001b[39merrors)\n\u001b[0;32m--> 951\u001b[0m     \u001b[39mself\u001b[39;49m\u001b[39m.\u001b[39;49m_execute_child(args, executable, preexec_fn, close_fds,\n\u001b[1;32m    952\u001b[0m                         pass_fds, cwd, env,\n\u001b[1;32m    953\u001b[0m                         startupinfo, creationflags, shell,\n\u001b[1;32m    954\u001b[0m                         p2cread, p2cwrite,\n\u001b[1;32m    955\u001b[0m                         c2pread, c2pwrite,\n\u001b[1;32m    956\u001b[0m                         errread, errwrite,\n\u001b[1;32m    957\u001b[0m                         restore_signals,\n\u001b[1;32m    958\u001b[0m                         gid, gids, uid, umask,\n\u001b[1;32m    959\u001b[0m                         start_new_session)\n\u001b[1;32m    960\u001b[0m \u001b[39mexcept\u001b[39;00m:\n\u001b[1;32m    961\u001b[0m     \u001b[39m# Cleanup if the child failed starting.\u001b[39;00m\n\u001b[1;32m    962\u001b[0m     \u001b[39mfor\u001b[39;00m f \u001b[39min\u001b[39;00m \u001b[39mfilter\u001b[39m(\u001b[39mNone\u001b[39;00m, (\u001b[39mself\u001b[39m\u001b[39m.\u001b[39mstdin, \u001b[39mself\u001b[39m\u001b[39m.\u001b[39mstdout, \u001b[39mself\u001b[39m\u001b[39m.\u001b[39mstderr)):\n",
      "File \u001b[0;32m/usr/local/Cellar/python@3.9/3.9.13_1/Frameworks/Python.framework/Versions/3.9/lib/python3.9/subprocess.py:1821\u001b[0m, in \u001b[0;36mPopen._execute_child\u001b[0;34m(self, args, executable, preexec_fn, close_fds, pass_fds, cwd, env, startupinfo, creationflags, shell, p2cread, p2cwrite, c2pread, c2pwrite, errread, errwrite, restore_signals, gid, gids, uid, umask, start_new_session)\u001b[0m\n\u001b[1;32m   1819\u001b[0m     \u001b[39mif\u001b[39;00m errno_num \u001b[39m!=\u001b[39m \u001b[39m0\u001b[39m:\n\u001b[1;32m   1820\u001b[0m         err_msg \u001b[39m=\u001b[39m os\u001b[39m.\u001b[39mstrerror(errno_num)\n\u001b[0;32m-> 1821\u001b[0m     \u001b[39mraise\u001b[39;00m child_exception_type(errno_num, err_msg, err_filename)\n\u001b[1;32m   1822\u001b[0m \u001b[39mraise\u001b[39;00m child_exception_type(err_msg)\n",
      "\u001b[0;31mFileNotFoundError\u001b[0m: [Errno 2] No such file or directory: './bin/st_bt'"
     ]
    }
   ],
   "source": [
    "with open('data/size_dup.txt', \"a\") as outfile:\n",
    "    for i in rand_arr:\n",
    "        t = np.array2string(np.array(list(i)))[1:-1]\n",
    "        t = \"./bin/st_bt \" + t\n",
    "        t = shlex.split(t)\n",
    "        subprocess.run(t, stdout=outfile)\n",
    "\n",
    "outfile.close()\n",
    "del(outfile)\n",
    "del(rand_arr)\n",
    "del(t)\n",
    "del(i)\n",
    "\n",
    "!wc -l data/size_dup.txt;"
   ]
  },
  {
   "cell_type": "markdown",
   "id": "f2dcecc4",
   "metadata": {},
   "source": [
    "### Dataframe\n",
    "\n",
    "Working with data:\n",
    "*  Make dataframe(df) from 'size_dup.txt' file\n",
    "*  Add one more column to df with percentage of duplicates in input\n",
    "*  Print four drawings :\n",
    "    * Number of inputs vs amount of duplicates\n",
    "    * Number of inputs vs percentage of duplicates\n",
    "    * Percentage histogram\n",
    "    * Derivative of duplicates"
   ]
  },
  {
   "cell_type": "code",
   "execution_count": null,
   "id": "3b8d6d51-e206-405e-ba17-38a9e7a00e52",
   "metadata": {},
   "outputs": [],
   "source": [
    "dDup = pd.read_table(\"data/size_dup.txt\", delimiter=\" \", index_col=False)\n",
    "dDup['Perc'] = (dDup['Dup'] / dDup['Len']) * 1000\n",
    "dDup['Perc'] = dDup['Perc'].astype(int) / 10\n",
    "dDup['Der'] = dDup['Dup'].diff() # / step\n",
    "dDup['d_Perc'] = dDup['Perc'].diff()\n",
    "dDup.tail(5)"
   ]
  },
  {
   "cell_type": "markdown",
   "id": "b8ba9a63",
   "metadata": {},
   "source": [
    "### Visualization 1\n",
    "\n",
    "*  <b>Fig 1</b> : Graphic showing amount of duplicates vs length of inputs.\n",
    "*  <b>Fig 2</b> : Graphic showing percentage of duplicates vs length of inputs.\n",
    "*  <b>Fig 3</b> : Graphic showing how often we meet duplicates.\n",
    "*  <b>Fig 4</b> : Graphic showing how changes (derivative) amount of duplicates with growing amount of inputs."
   ]
  },
  {
   "cell_type": "code",
   "execution_count": null,
   "id": "364f488d-008e-4e2e-bac7-98814a1e0113",
   "metadata": {},
   "outputs": [],
   "source": [
    "dDup.plot(x='Len', y='Dup')\n",
    "dDup.plot.line(x='Len', y='Perc', color='brown')\n",
    "dDup.hist(column='Perc')\n",
    "dDup.plot.line(x='Len', y='Der', color='black')"
   ]
  },
  {
   "cell_type": "markdown",
   "id": "b8fa4321",
   "metadata": {},
   "source": [
    "### Critical points\n",
    "\n",
    "We will examine my set-to-tree algorithm for local extremas. <br>\n",
    "To find local minimums we will find points in which $f'(Len)≤0$ and $f'(Len+1)>0$  <br>\n",
    "To find local maximums we will find points in which $ƒ'(Len)≥0$ and $ƒ'(Len+1)<0$"
   ]
  },
  {
   "cell_type": "code",
   "execution_count": null,
   "id": "703713aa",
   "metadata": {},
   "outputs": [],
   "source": [
    "dDup['Der_Nxt'] = dDup['Der'].shift(-1)\n",
    "dfMin = dDup[(dDup['Der'] <= 0) & (dDup['Der_Nxt'] > 0)]\n",
    "dfMin = dfMin.reset_index(drop=True)\n",
    "dfMin.index += 1\n",
    "print(\"Number of local mins :\", dfMin.shape[0])\n",
    "dfMin['Min_Range'] = dfMin['Len'].diff()\n",
    "dfMin.tail(10)"
   ]
  },
  {
   "cell_type": "code",
   "execution_count": null,
   "id": "71fe77fb",
   "metadata": {},
   "outputs": [],
   "source": [
    "dfMax = dDup[(dDup['Der'] >= 0) & (dDup['Der_Nxt'] < 0)]\n",
    "dfMax = dfMax.reset_index(drop=True)\n",
    "dfMax.index += 1\n",
    "print(\"Number of local maxs :\", dfMax.shape[0])\n",
    "dfMax['Max_Range'] = dfMax['Len'].diff()\n",
    "dfMax.tail(10)"
   ]
  },
  {
   "cell_type": "markdown",
   "id": "a5d5dc5d",
   "metadata": {},
   "source": [
    "### Min-Max frequency\n",
    "\n",
    "We will observe case with <i>start=3 ; stop=1001; step=1</i>.<br>\n",
    "<br>\n",
    "How its seen, local minimum could be found : $ƒ(x)=2^{x+2}-1$ ; $x ∈ N$; <br>\n",
    "Local maximum could be found : $ƒ(x)=2+3*\\sum_{k=1}^{x}2^{k-1}$ ; $x ∈ N$;"
   ]
  },
  {
   "cell_type": "code",
   "execution_count": null,
   "id": "5346741d",
   "metadata": {},
   "outputs": [],
   "source": [
    "# Memory clean up\n",
    "del(dDup)\n",
    "del(dfMin)\n",
    "del(dfMax)\n",
    "!rm -f size_dup.txt;"
   ]
  },
  {
   "cell_type": "markdown",
   "id": "9f14aa43",
   "metadata": {},
   "source": [
    "### Semi-conclusion\n",
    "\n",
    "My algorithm, converting vector to the Binary Tree, is very unoptimized. As we see, there are a lot of duplicates. Fortunately, there are no more than two same numbers in the tree, and all duplicated numbers are leaves. There will not be a problem to clean up the tree from duplicated numbers.\n",
    "\n",
    "This algorithm does not have constant complexity, and the amount of duplicates changes linearly with increasing number of inputs. \n",
    "\n",
    "You can find implementation in <i>bi_tree.h</i> in <i><b>tb_node* gen_triple(int* iarr, int start, int finish);</b></i> function. Deleting of duplicates could be found in <i>bi_tree.h</i> in <i><b>void del_dup(T *root, Y *out);</b></i> function.\n",
    "\n",
    "With next steps you will see how I work with the Binary Tree Class."
   ]
  },
  {
   "cell_type": "code",
   "execution_count": null,
   "id": "9dcdcbcb-1e9f-4bea-92fc-aafd2e85ddbf",
   "metadata": {},
   "outputs": [],
   "source": [
    "print(\"Finish\")"
   ]
  }
 ],
 "metadata": {
  "kernelspec": {
   "display_name": "Python 3 (ipykernel)",
   "language": "python",
   "name": "python3"
  },
  "language_info": {
   "codemirror_mode": {
    "name": "ipython",
    "version": 3
   },
   "file_extension": ".py",
   "mimetype": "text/x-python",
   "name": "python",
   "nbconvert_exporter": "python",
   "pygments_lexer": "ipython3",
   "version": "3.9.13"
  },
  "vscode": {
   "interpreter": {
    "hash": "cbfb2479071fdf56a88c3ea27dc116a1caefde359adfaf9653e7fad5a3587abd"
   }
  }
 },
 "nbformat": 4,
 "nbformat_minor": 5
}
