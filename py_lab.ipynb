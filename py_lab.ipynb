{
 "cells": [
  {
   "cell_type": "code",
   "execution_count": null,
   "id": "1f2b79cb-7f49-4e52-a0f2-761eccb2fb3c",
   "metadata": {},
   "outputs": [],
   "source": [
    "from py_analog import m_ll\n",
    "from py_analog import m_tree\n",
    "\n",
    "print(\"START\")"
   ]
  },
  {
   "cell_type": "markdown",
   "id": "1282a21b",
   "metadata": {},
   "source": [
    "### Linked List"
   ]
  },
  {
   "cell_type": "code",
   "execution_count": null,
   "id": "d4cc4da9-a64a-4f3e-973a-29f21cbd62aa",
   "metadata": {},
   "outputs": [],
   "source": [
    "LL_Obj = m_ll.LL(123)\n",
    "LL_Obj.push_back(\"ABC\")\n",
    "LL_Obj.push_back(\"QWERTY\")\n",
    "LL_Obj.push_forword(987)\n",
    "LL_Obj.print_ll()\n",
    "\n",
    "LL_Obj.insert_after(\"ABC\", \"XYZ\")\n",
    "LL_Obj.del_el(123)\n",
    "LL_Obj.print_ll()\n",
    "LL_Obj.ll_length()"
   ]
  },
  {
   "cell_type": "markdown",
   "id": "595a35c8",
   "metadata": {},
   "source": [
    "### Binary Tree"
   ]
  },
  {
   "cell_type": "code",
   "execution_count": null,
   "id": "f08ecbd1",
   "metadata": {},
   "outputs": [],
   "source": [
    "BT_Obj = m_tree.PyBinTree(20)\n",
    "BT_Obj.add_el(15)\n",
    "BT_Obj.add_el(17)\n",
    "BT_Obj.add_el(10)\n",
    "BT_Obj.add_el(13)\n",
    "BT_Obj.add_el(30)\n",
    "BT_Obj.add_el(35)\n",
    "BT_Obj.add_el(32)\n",
    "BT_Obj.add_el(25)\n",
    "BT_Obj.add_el(23)\n",
    "BT_Obj.add_el(27)"
   ]
  },
  {
   "cell_type": "code",
   "execution_count": null,
   "id": "21c546ef",
   "metadata": {},
   "outputs": [],
   "source": [
    "BT_Obj.print_tree()"
   ]
  },
  {
   "cell_type": "markdown",
   "id": "2117fb2b",
   "metadata": {},
   "source": [
    "### Tree vizualisation"
   ]
  },
  {
   "cell_type": "code",
   "execution_count": null,
   "id": "592eecb7",
   "metadata": {},
   "outputs": [],
   "source": [
    "from py_analog import f_segment_tree as st\n",
    "\n",
    "st.tree_df(BT_Obj).tail()"
   ]
  },
  {
   "cell_type": "code",
   "execution_count": null,
   "id": "0cff6d93",
   "metadata": {},
   "outputs": [],
   "source": [
    "st.segmentated_tree(BT_Obj, plot=True)\n",
    "print(BT_Obj.vectorize_tree())"
   ]
  },
  {
   "cell_type": "markdown",
   "id": "7048469a",
   "metadata": {},
   "source": [
    "### Balanced Tree"
   ]
  },
  {
   "cell_type": "code",
   "execution_count": null,
   "id": "72c70e89",
   "metadata": {},
   "outputs": [],
   "source": [
    "BT_Obj.balance_tree()\n",
    "st.segmentated_tree(BT_Obj, plot=True)\n",
    "print(BT_Obj.vectorize_tree())"
   ]
  },
  {
   "cell_type": "code",
   "execution_count": null,
   "id": "49765668",
   "metadata": {},
   "outputs": [],
   "source": [
    "from py_analog import gen_rand\n",
    "import numpy as np\n",
    "\n",
    "rand_obj = gen_rand.Rand_set(30,31,1)\n",
    "ds = list(rand_obj.gen_rand_print(False, True)[0])\n",
    "BT_Obj.balance_tree(vec = ds)\n",
    "st.segmentated_tree(BT_Obj, plot=True)\n",
    "print(BT_Obj.vectorize_tree())"
   ]
  },
  {
   "cell_type": "code",
   "execution_count": null,
   "id": "523604b9-c4d4-4104-8272-4bafd985eba8",
   "metadata": {},
   "outputs": [],
   "source": [
    "print(\"Finish\")"
   ]
  }
 ],
 "metadata": {
  "kernelspec": {
   "display_name": "Python 3 (ipykernel)",
   "language": "python",
   "name": "python3"
  },
  "language_info": {
   "codemirror_mode": {
    "name": "ipython",
    "version": 3
   },
   "file_extension": ".py",
   "mimetype": "text/x-python",
   "name": "python",
   "nbconvert_exporter": "python",
   "pygments_lexer": "ipython3",
   "version": "3.9.7"
  },
  "vscode": {
   "interpreter": {
    "hash": "cbfb2479071fdf56a88c3ea27dc116a1caefde359adfaf9653e7fad5a3587abd"
   }
  }
 },
 "nbformat": 4,
 "nbformat_minor": 5
}
