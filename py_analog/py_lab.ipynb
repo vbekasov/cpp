{
 "cells": [
  {
   "cell_type": "code",
   "execution_count": 1,
   "id": "1f2b79cb-7f49-4e52-a0f2-761eccb2fb3c",
   "metadata": {},
   "outputs": [
    {
     "name": "stdout",
     "output_type": "stream",
     "text": [
      "START\n"
     ]
    }
   ],
   "source": [
    "import m_ll\n",
    "import m_tree\n",
    "\n",
    "print(\"START\")"
   ]
  },
  {
   "cell_type": "markdown",
   "id": "1282a21b",
   "metadata": {},
   "source": [
    "### Linked List"
   ]
  },
  {
   "cell_type": "code",
   "execution_count": 2,
   "id": "d4cc4da9-a64a-4f3e-973a-29f21cbd62aa",
   "metadata": {},
   "outputs": [
    {
     "name": "stdout",
     "output_type": "stream",
     "text": [
      "987 | 123 | ABC | QWERTY | \n",
      "987 | ABC | XYZ | QWERTY | \n"
     ]
    },
    {
     "data": {
      "text/plain": [
       "4"
      ]
     },
     "execution_count": 2,
     "metadata": {},
     "output_type": "execute_result"
    }
   ],
   "source": [
    "LL_Obj = m_ll.LL(123)\n",
    "LL_Obj.push_back(\"ABC\")\n",
    "LL_Obj.push_back(\"QWERTY\")\n",
    "LL_Obj.push_forword(987)\n",
    "LL_Obj.print_ll()\n",
    "\n",
    "LL_Obj.insert_after(\"ABC\", \"XYZ\")\n",
    "LL_Obj.del_el(123)\n",
    "LL_Obj.print_ll()\n",
    "LL_Obj.ll_length()"
   ]
  },
  {
   "cell_type": "markdown",
   "id": "595a35c8",
   "metadata": {},
   "source": [
    "### Binary Tree"
   ]
  },
  {
   "cell_type": "code",
   "execution_count": 3,
   "id": "f08ecbd1",
   "metadata": {},
   "outputs": [],
   "source": [
    "BT_Obj = m_tree.PyBinTree(20)\n",
    "BT_Obj.add_el(15)\n",
    "BT_Obj.add_el(17)\n",
    "BT_Obj.add_el(10)\n",
    "BT_Obj.add_el(13)\n",
    "BT_Obj.add_el(30)\n",
    "BT_Obj.add_el(35)\n",
    "BT_Obj.add_el(32)\n",
    "BT_Obj.add_el(25)\n",
    "BT_Obj.add_el(23)\n",
    "BT_Obj.add_el(27)"
   ]
  },
  {
   "cell_type": "code",
   "execution_count": 4,
   "id": "21c546ef",
   "metadata": {},
   "outputs": [
    {
     "name": "stdout",
     "output_type": "stream",
     "text": [
      "13\n",
      "None <- | -> None\n",
      "10\n",
      "None <- | ->  13\n",
      "17\n",
      "None <- | -> None\n",
      "15\n",
      "10  <- | ->  17\n",
      "23\n",
      "None <- | -> None\n",
      "27\n",
      "None <- | -> None\n",
      "25\n",
      "23  <- | ->  27\n",
      "32\n",
      "None <- | -> None\n",
      "35\n",
      "32  <- | -> None\n",
      "30\n",
      "25  <- | ->  35\n",
      "20\n",
      "15  <- | ->  30\n"
     ]
    }
   ],
   "source": [
    "BT_Obj.print_tree()"
   ]
  }
 ],
 "metadata": {
  "kernelspec": {
   "display_name": "Python 3 (ipykernel)",
   "language": "python",
   "name": "python3"
  },
  "language_info": {
   "codemirror_mode": {
    "name": "ipython",
    "version": 3
   },
   "file_extension": ".py",
   "mimetype": "text/x-python",
   "name": "python",
   "nbconvert_exporter": "python",
   "pygments_lexer": "ipython3",
   "version": "3.9.13"
  },
  "vscode": {
   "interpreter": {
    "hash": "cbfb2479071fdf56a88c3ea27dc116a1caefde359adfaf9653e7fad5a3587abd"
   }
  }
 },
 "nbformat": 4,
 "nbformat_minor": 5
}
